{
  "nbformat": 4,
  "nbformat_minor": 0,
  "metadata": {
    "colab": {
      "provenance": []
    },
    "kernelspec": {
      "name": "python3",
      "display_name": "Python 3"
    },
    "language_info": {
      "name": "python"
    }
  },
  "cells": [
    {
      "cell_type": "code",
      "execution_count": 1,
      "metadata": {
        "colab": {
          "base_uri": "https://localhost:8080/"
        },
        "id": "u1wH9x-jbELb",
        "outputId": "2f2db69e-f54b-4f4d-8249-aeb6ecb47e88"
      },
      "outputs": [
        {
          "output_type": "stream",
          "name": "stdout",
          "text": [
            "Cloning into 'n-ary-topology'...\n",
            "remote: Enumerating objects: 12, done.\u001b[K\n",
            "remote: Counting objects: 100% (12/12), done.\u001b[K\n",
            "remote: Compressing objects: 100% (11/11), done.\u001b[K\n",
            "remote: Total 12 (delta 1), reused 0 (delta 0), pack-reused 0 (from 0)\u001b[K\n",
            "Receiving objects: 100% (12/12), 7.25 KiB | 7.25 MiB/s, done.\n",
            "Resolving deltas: 100% (1/1), done.\n",
            "/content/n-ary-topology\n"
          ]
        }
      ],
      "source": [
        "#Clonamos el repositorio\n",
        "!git clone https://github.com/Convergent-Sequence/n-ary-topology.git\n",
        "\n",
        "#Cambiamos el directorio al repositorio\n",
        "%cd n-ary-topology\n",
        "\n",
        "#Importamos las funciones\n",
        "import ntop"
      ]
    },
    {
      "cell_type": "markdown",
      "source": [
        "<div align=\"center\">\n",
        "  Ejemplos de las funciones para topologías $n$-arias\n",
        "</div>\n",
        "\n",
        "Digitemos el espacio topológico bianrio dado por $X=\\{a,b,c,d,e\\},Y=\\{1,2,3,4,5,6\\}$ y\n",
        "\\begin{align*}\n",
        "   \\mathcal{M} = \\{ & (\\{a\\}, \\{1, 2, 3, 4, 5, 6\\}), (\\{d\\}, \\{1, 2, 3, 4, 5, 6\\}), \\\\\n",
        "   & (\\{e\\}, \\{1, 2, 3, 4, 5, 6\\}),(\\{b, c\\}, \\{2, 3\\}), \\\\\n",
        "   & (\\emptyset, \\{1, 2, 3, 4, 5, 6\\}),(\\emptyset, \\{2, 3\\}), \\\\\n",
        "   & (\\{a, d\\}, \\{1, 2, 3, 4, 5, 6\\}), (\\{a, e\\}, \\{1, 2, 3, 4, 5, 6\\}), \\\\\n",
        "   & (\\{a, b, c\\}, \\{1, 2, 3, 4, 5, 6\\}),  (\\{d, e\\}, \\{1, 2, 3, 4, 5, 6\\}), \\\\\n",
        "   & (\\{b, c, d\\}, \\{1, 2, 3, 4, 5, 6\\}), (\\{a, d, e\\}, \\{1, 2, 3, 4, 5, 6\\}), \\\\\n",
        "   & (\\{a, b, c, d\\}, \\{1, 2, 3, 4, 5, 6\\}), (\\{b, c, e\\}, \\{1, 2, 3, 4, 5, 6\\}), \\\\\n",
        "   & (\\{a, b, c, e\\}, \\{1, 2, 3, 4, 5, 6\\}),  (\\{b, c, d, e\\}, \\{1, 2, 3, 4, 5, 6\\}), \\\\\n",
        "   & (\\{a, b, c, d, e\\}, \\{1, 2, 3, 4, 5, 6\\}), (\\{b, c\\}, \\{1, 2, 3, 4, 5, 6\\}), \\\\\n",
        "   & (\\emptyset, \\emptyset) \\}.\n",
        "\\end{align*}\n"
      ],
      "metadata": {
        "id": "4XCbMcKUs3Vm"
      }
    },
    {
      "cell_type": "code",
      "source": [
        "X1 = {'a', 'b','c','d','e'}\n",
        "X2 = {1,2,3,4,5,6}\n",
        "top1 = [[{'a'}, {1, 2, 3, 4, 5, 6}],[{'d'}, {1, 2, 3, 4, 5, 6}],\n",
        " [{'e'}, {1, 2, 3, 4, 5, 6}],[{'b', 'c'}, {2, 3}],\n",
        " [set(), {1, 2, 3, 4, 5, 6}],[set(), {2, 3}],[{'a', 'd'}, {1, 2, 3, 4, 5, 6}],\n",
        " [{'a', 'e'}, {1, 2, 3, 4, 5, 6}],[{'a', 'b', 'c'}, {1, 2, 3, 4, 5, 6}],\n",
        " [{'d', 'e'}, {1, 2, 3, 4, 5, 6}],[{'b', 'c', 'd'}, {1, 2, 3, 4, 5, 6}],\n",
        " [{'a', 'd', 'e'}, {1, 2, 3, 4, 5, 6}],[{'a', 'b', 'c', 'd'}, {1, 2, 3, 4, 5, 6}],\n",
        " [{'b', 'c', 'e'}, {1, 2, 3, 4, 5, 6}],[{'a', 'b', 'c', 'e'}, {1, 2, 3, 4, 5, 6}],\n",
        " [{'b', 'c', 'd', 'e'}, {1, 2, 3, 4, 5, 6}],[{'a', 'b', 'c', 'd', 'e'}, {1, 2, 3, 4, 5, 6}],\n",
        " [{'b', 'c'}, {1, 2, 3, 4, 5, 6}],[set(), set()]]"
      ],
      "metadata": {
        "id": "hU_EmmRss40O"
      },
      "execution_count": 2,
      "outputs": []
    },
    {
      "cell_type": "markdown",
      "source": [
        "Calculamos el interior y la clausura de  $(\\{b,c\\},\\{2,3,5\\})$."
      ],
      "metadata": {
        "id": "h4Qv-FzgCZSS"
      }
    },
    {
      "cell_type": "code",
      "source": [
        "interior1 = ntop.interior(top1,[{'b','c'},{2,3,5}])\n",
        "closure1 = ntop.closure(X1,X2,M=top1,nelement=[{'b','c'},{2,3,5}])\n",
        "print(interior1, closure1)"
      ],
      "metadata": {
        "colab": {
          "base_uri": "https://localhost:8080/"
        },
        "id": "5F1YOBeEtHLw",
        "outputId": "4c602c9c-999f-4b05-d36e-46c8685d98cf"
      },
      "execution_count": 3,
      "outputs": [
        {
          "output_type": "stream",
          "name": "stdout",
          "text": [
            "[{'c', 'b'}, {2, 3}] [{'e', 'c', 'd', 'b', 'a'}, {1, 2, 3, 4, 5, 6}]\n"
          ]
        }
      ]
    },
    {
      "cell_type": "markdown",
      "source": [
        "Verificamos que $\\mathcal{M}$ es en efecto una topología binaria."
      ],
      "metadata": {
        "id": "bDWAv2RPC0xf"
      }
    },
    {
      "cell_type": "code",
      "source": [
        "ntop.is_n_ary_topology(X1,X2,M=top1)"
      ],
      "metadata": {
        "colab": {
          "base_uri": "https://localhost:8080/"
        },
        "id": "R0jVpEOaygl3",
        "outputId": "11dad69f-a31b-450c-c0e6-b13135b3501f"
      },
      "execution_count": 4,
      "outputs": [
        {
          "output_type": "execute_result",
          "data": {
            "text/plain": [
              "True"
            ]
          },
          "metadata": {},
          "execution_count": 4
        }
      ]
    },
    {
      "cell_type": "markdown",
      "source": [
        "\n",
        "Generamos $\\mathcal{M}$ usando la subbase $\\Delta =  \\{(\\{a\\}, X_2),(\\{d\\}, X_2),(\\{e\\}, X_2),(\\{b,c\\},\\{2,3\\})\\}$."
      ],
      "metadata": {
        "id": "XpWwxClHz8RV"
      }
    },
    {
      "cell_type": "code",
      "source": [
        "delta = [[{'a'}, X2],[{'d'}, X2],[{'e'}, X2],[{'b','c'},{2,3}]]\n",
        "top2 = ntop.generate_n_ary_topology(X1,X2,delta=delta)\n",
        "top2"
      ],
      "metadata": {
        "colab": {
          "base_uri": "https://localhost:8080/"
        },
        "id": "dvZCoEuVz9Ae",
        "outputId": "81cf0e30-56bf-4943-a11f-bab7b2c70831"
      },
      "execution_count": 5,
      "outputs": [
        {
          "output_type": "execute_result",
          "data": {
            "text/plain": [
              "[[{'a'}, {1, 2, 3, 4, 5, 6}],\n",
              " [{'d'}, {1, 2, 3, 4, 5, 6}],\n",
              " [{'e'}, {1, 2, 3, 4, 5, 6}],\n",
              " [{'b', 'c'}, {2, 3}],\n",
              " [set(), {1, 2, 3, 4, 5, 6}],\n",
              " [set(), {2, 3}],\n",
              " [{'a', 'd'}, {1, 2, 3, 4, 5, 6}],\n",
              " [{'a', 'e'}, {1, 2, 3, 4, 5, 6}],\n",
              " [{'a', 'b', 'c'}, {1, 2, 3, 4, 5, 6}],\n",
              " [{'d', 'e'}, {1, 2, 3, 4, 5, 6}],\n",
              " [{'b', 'c', 'd'}, {1, 2, 3, 4, 5, 6}],\n",
              " [{'a', 'd', 'e'}, {1, 2, 3, 4, 5, 6}],\n",
              " [{'a', 'b', 'c', 'd'}, {1, 2, 3, 4, 5, 6}],\n",
              " [{'b', 'c', 'e'}, {1, 2, 3, 4, 5, 6}],\n",
              " [{'a', 'b', 'c', 'e'}, {1, 2, 3, 4, 5, 6}],\n",
              " [{'b', 'c', 'd', 'e'}, {1, 2, 3, 4, 5, 6}],\n",
              " [{'a', 'b', 'c', 'd', 'e'}, {1, 2, 3, 4, 5, 6}],\n",
              " [{'b', 'c'}, {1, 2, 3, 4, 5, 6}],\n",
              " [set(), set()]]"
            ]
          },
          "metadata": {},
          "execution_count": 5
        }
      ]
    },
    {
      "cell_type": "markdown",
      "source": [
        "<div align=\"center\">\n",
        "  Ejemplos de las funciones para topologías usuales\n",
        "</div>\n",
        "\n",
        "Digitemos la topologia dada por\n",
        "\\begin{align*}\n",
        "   z = & \\{p_1, p_2, p_3, p_4, p_5, p_6, p_7,p_8\\} \\\\\n",
        "   \\tau = \\{ & \\{p_1, p_5, p_6\\}, \\{p_2, p_5, p_6\\},  \\{p_3, p_5, p_6\\},  \\{p_1, p_3, p_4, p_5, p_6, p_7\\}, \\\\\n",
        "   & \\{p_5, p_6\\},  \\{p_1, p_3, p_5, p_6, p_7\\},  \\{p_2, p_3, p_5, p_6, p_8\\}, \\{p_1, p_2, p_5, p_6\\}, \\\\\n",
        "   & \\{p_1, p_2, p_3, p_5, p_6, p_7, p_8\\},  \\{p_1, p_2, p_3, p_4, p_5, p_6, p_7, p_8\\}, \\{p_1, p_3, p_5, p_6\\}, \\\\\n",
        "   & \\{p_1, p_2, p_3, p_5, p_6, p_8\\},  \\{p_2, p_3, p_5, p_6\\}, z, \\{p_1, p_2, p_3, p_5, p_6, p_7\\}, \\{p_1, p_2, p_3, p_5, p_6\\}, \\emptyset \\}.\n",
        "\\end{align*}"
      ],
      "metadata": {
        "id": "LEIR1zwc2YsU"
      }
    },
    {
      "cell_type": "code",
      "source": [
        "z = {'p1', 'p2', 'p3', 'p4', 'p5', 'p6', 'p7','p8'}\n",
        "\n",
        "top3 = [{'p1', 'p5', 'p6'},{'p2', 'p5', 'p6'},{'p3', 'p5', 'p6'},{'p1', 'p3', 'p4', 'p5', 'p6', 'p7'},\n",
        " {'p5', 'p6'},{'p1', 'p3', 'p5', 'p6', 'p7'},{'p2', 'p3', 'p5', 'p6', 'p8'},{'p1', 'p2', 'p5', 'p6'},\n",
        " {'p1', 'p2', 'p3', 'p5', 'p6', 'p7', 'p8'},z,{'p1', 'p3', 'p5', 'p6'},\n",
        " {'p1', 'p2', 'p3', 'p5', 'p6', 'p8'},{'p2', 'p3', 'p5', 'p6'},{'p1', 'p2', 'p3', 'p4', 'p5', 'p6', 'p7'},\n",
        " {'p1', 'p2', 'p3', 'p5', 'p6', 'p7'},{'p1', 'p2', 'p3', 'p5', 'p6'},set()]"
      ],
      "metadata": {
        "id": "6UKm9KS-2ZSY"
      },
      "execution_count": 6,
      "outputs": []
    },
    {
      "cell_type": "markdown",
      "source": [
        "Calulamos el interior y la clausura de $\\{p_4, p_5, p_7, p_8\\}$"
      ],
      "metadata": {
        "id": "T84OtMa63nOR"
      }
    },
    {
      "cell_type": "code",
      "source": [
        "interior2 = ntop.usual_interior(z=z, tau=top3, s={'p4', 'p5', 'p7', 'p8'})\n",
        "closure2 = ntop.usual_closure(z=z, tau=top3, s={'p4', 'p5', 'p7', 'p8'})\n",
        "print(interior2, closure2)"
      ],
      "metadata": {
        "colab": {
          "base_uri": "https://localhost:8080/"
        },
        "id": "G4AyqALr3npZ",
        "outputId": "2050896c-3d7f-4e73-d9dd-a2a70fcf09f1"
      },
      "execution_count": 7,
      "outputs": [
        {
          "output_type": "stream",
          "name": "stdout",
          "text": [
            "set() {'p1', 'p5', 'p6', 'p3', 'p4', 'p2', 'p8', 'p7'}\n"
          ]
        }
      ]
    },
    {
      "cell_type": "markdown",
      "source": [
        "Verificamos que $\\tau$ es en efecto una topología."
      ],
      "metadata": {
        "id": "4xEUvXI86mfM"
      }
    },
    {
      "cell_type": "code",
      "source": [
        "ntop.is_usual_topology(z,top3)"
      ],
      "metadata": {
        "colab": {
          "base_uri": "https://localhost:8080/"
        },
        "id": "XcxfxKlu6m_y",
        "outputId": "c6774631-f8d2-442f-a85e-35d98cbf9ab7"
      },
      "execution_count": 8,
      "outputs": [
        {
          "output_type": "execute_result",
          "data": {
            "text/plain": [
              "True"
            ]
          },
          "metadata": {},
          "execution_count": 8
        }
      ]
    },
    {
      "cell_type": "markdown",
      "source": [
        "Generamos $\\tau$ con la subbase $S=\\{p_1, p_5, p_6\\},\\{p_2,p_5, p_6\\}, \\{p_3, p_5,p_6\\},\\{p_4, p_5, p_6, p_7\\},\\{p_5, p_6\\}$"
      ],
      "metadata": {
        "id": "i6hlJ3eP_hHM"
      }
    },
    {
      "cell_type": "code",
      "source": [
        "subbase = [\n",
        "    {'p1', 'p5', 'p6'},\n",
        "    {'p2', 'p5', 'p6'},\n",
        "    {'p3', 'p5', 'p6'},\n",
        "    {'p4', 'p5', 'p6', 'p7'},\n",
        "    {'p5', 'p6'}\n",
        "]\n",
        "top4 = ntop.sub_to_tau(subbase)\n",
        "top4"
      ],
      "metadata": {
        "colab": {
          "base_uri": "https://localhost:8080/"
        },
        "id": "aPapRbnv_hby",
        "outputId": "b16c9a58-d778-4b73-86f4-1eaf3760a9f1"
      },
      "execution_count": 9,
      "outputs": [
        {
          "output_type": "execute_result",
          "data": {
            "text/plain": [
              "[{'p1', 'p5', 'p6'},\n",
              " {'p2', 'p5', 'p6'},\n",
              " {'p3', 'p5', 'p6'},\n",
              " {'p4', 'p5', 'p6', 'p7'},\n",
              " {'p5', 'p6'},\n",
              " {'p1', 'p2', 'p5', 'p6'},\n",
              " {'p1', 'p3', 'p5', 'p6'},\n",
              " {'p1', 'p4', 'p5', 'p6', 'p7'},\n",
              " {'p2', 'p3', 'p5', 'p6'},\n",
              " {'p2', 'p4', 'p5', 'p6', 'p7'},\n",
              " {'p1', 'p2', 'p3', 'p5', 'p6'},\n",
              " {'p1', 'p2', 'p4', 'p5', 'p6', 'p7'},\n",
              " {'p3', 'p4', 'p5', 'p6', 'p7'},\n",
              " {'p1', 'p3', 'p4', 'p5', 'p6', 'p7'},\n",
              " {'p2', 'p3', 'p4', 'p5', 'p6', 'p7'},\n",
              " {'p1', 'p2', 'p3', 'p4', 'p5', 'p6', 'p7'},\n",
              " set()]"
            ]
          },
          "metadata": {},
          "execution_count": 9
        }
      ]
    }
  ]
}