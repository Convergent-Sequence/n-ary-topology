{
 "cells": [
  {
   "cell_type": "code",
   "execution_count": 2,
   "id": "bfc71fa7",
   "metadata": {},
   "outputs": [
    {
     "data": {
      "text/plain": [
       "<module 'ntop' from 'C:\\\\Users/57316/Desktop/Tesis/Algoritmos\\\\ntop.py'>"
      ]
     },
     "execution_count": 2,
     "metadata": {},
     "output_type": "execute_result"
    }
   ],
   "source": [
    "import sys\n",
    "sys.path.append('C:/Users/57316/Desktop/Tesis/Algoritmos')  \n",
    "import ntop  # Primera importación\n",
    "import importlib  # Importa importlib para recargar módulos\n",
    "importlib.reload(ntop)  # Recarga ntop para aplicar los cambios"
   ]
  },
  {
   "cell_type": "markdown",
   "id": "3ee0113e",
   "metadata": {},
   "source": [
    "*Example 3*"
   ]
  },
  {
   "cell_type": "code",
   "execution_count": 7,
   "id": "6789859f",
   "metadata": {},
   "outputs": [
    {
     "data": {
      "text/plain": [
       "[[{'a_1'},\n",
       "  {'b_1', 'b_2'},\n",
       "  {'c_1', 'c_2', 'c_3'},\n",
       "  {'d_1', 'd_2'},\n",
       "  {'e_1', 'e_2', 'e_3'}],\n",
       " [{'a_1'},\n",
       "  {'b_1', 'b_2'},\n",
       "  {'c_1', 'c_2'},\n",
       "  {'d_1', 'd_3', 'd_4'},\n",
       "  {'e_1', 'e_2', 'e_4', 'e_5'}],\n",
       " [{'a_1'},\n",
       "  {'b_1', 'b_2'},\n",
       "  {'c_2', 'c_3'},\n",
       "  {'d_2', 'd_3', 'd_4'},\n",
       "  {'e_2', 'e_3', 'e_4'}],\n",
       " [{'a_1'}, {'b_1', 'b_2'}, {'c_1', 'c_2'}, {'d_1'}, {'e_1', 'e_2'}],\n",
       " [{'a_1'}, {'b_1', 'b_2'}, {'c_2', 'c_3'}, {'d_2'}, {'e_2', 'e_3'}],\n",
       " [{'a_1'}, {'b_1', 'b_2'}, {'c_2'}, {'d_3', 'd_4'}, {'e_2', 'e_4'}],\n",
       " [{'a_1'}, {'b_1', 'b_2'}, {'c_2'}, set(), {'e_2'}],\n",
       " [{'a_1'},\n",
       "  {'b_1', 'b_2'},\n",
       "  {'c_1', 'c_2', 'c_3'},\n",
       "  {'d_1', 'd_2', 'd_3', 'd_4'},\n",
       "  {'e_1', 'e_2', 'e_3', 'e_4', 'e_5'}],\n",
       " [{'a_1'},\n",
       "  {'b_1', 'b_2'},\n",
       "  {'c_1', 'c_2', 'c_3'},\n",
       "  {'d_1', 'd_2', 'd_3', 'd_4'},\n",
       "  {'e_1', 'e_2', 'e_3', 'e_4'}],\n",
       " [{'a_1'},\n",
       "  {'b_1', 'b_2'},\n",
       "  {'c_1', 'c_2'},\n",
       "  {'d_1', 'd_3', 'd_4'},\n",
       "  {'e_1', 'e_2', 'e_4'}],\n",
       " [set(), set(), set(), set(), set()]]"
      ]
     },
     "execution_count": 7,
     "metadata": {},
     "output_type": "execute_result"
    }
   ],
   "source": [
    "X1 = {'a_1'}\n",
    "X2 = {'b_1', 'b_2'}\n",
    "X3 = {'c_1', 'c_2','c_3'}\n",
    "X4 = {'d_1','d_2','d_3','d_4'}\n",
    "X5 = {'e_1','e_2','e_3','e_4','e_5'}\n",
    "delta = [\n",
    "    [{'a_1'}, {'b_1', 'b_2'}, {'c_1', 'c_2', 'c_3'}, {'d_1', 'd_2'}, {'e_1', 'e_2', 'e_3'}],\n",
    "    [{'a_1'}, {'b_1', 'b_2'}, {'c_1', 'c_2'}, {'d_1', 'd_3', 'd_4'}, {'e_1', 'e_2', 'e_4', 'e_5'}],\n",
    "    [{'a_1'}, {'b_1', 'b_2'}, {'c_2', 'c_3'}, {'d_2', 'd_3', 'd_4'}, {'e_2', 'e_3', 'e_4'}]\n",
    "]\n",
    "\n",
    "top = ntop.generate_n_ary_topology(X1,X2,X3,X4,X5,delta=delta)\n",
    "top\n",
    "#ntop.is_n_ary_topology(X1,X2,X3,X4,X5,M=top)"
   ]
  },
  {
   "cell_type": "markdown",
   "id": "2d87ffc3",
   "metadata": {},
   "source": [
    "*Example 8*"
   ]
  },
  {
   "cell_type": "code",
   "execution_count": 10,
   "id": "32fae0e2",
   "metadata": {},
   "outputs": [
    {
     "data": {
      "text/plain": [
       "[[{'a'}, {1, 2, 3, 4, 5, 6}],\n",
       " [{'d'}, {1, 2, 3, 4, 5, 6}],\n",
       " [{'e'}, {1, 2, 3, 4, 5, 6}],\n",
       " [{'b', 'c'}, {2, 3}],\n",
       " [set(), {1, 2, 3, 4, 5, 6}],\n",
       " [set(), {2, 3}],\n",
       " [{'a', 'd'}, {1, 2, 3, 4, 5, 6}],\n",
       " [{'a', 'e'}, {1, 2, 3, 4, 5, 6}],\n",
       " [{'a', 'b', 'c'}, {1, 2, 3, 4, 5, 6}],\n",
       " [{'d', 'e'}, {1, 2, 3, 4, 5, 6}],\n",
       " [{'b', 'c', 'd'}, {1, 2, 3, 4, 5, 6}],\n",
       " [{'a', 'd', 'e'}, {1, 2, 3, 4, 5, 6}],\n",
       " [{'a', 'b', 'c', 'd'}, {1, 2, 3, 4, 5, 6}],\n",
       " [{'b', 'c', 'e'}, {1, 2, 3, 4, 5, 6}],\n",
       " [{'a', 'b', 'c', 'e'}, {1, 2, 3, 4, 5, 6}],\n",
       " [{'b', 'c', 'd', 'e'}, {1, 2, 3, 4, 5, 6}],\n",
       " [{'a', 'b', 'c', 'd', 'e'}, {1, 2, 3, 4, 5, 6}],\n",
       " [{'b', 'c'}, {1, 2, 3, 4, 5, 6}],\n",
       " [set(), set()]]"
      ]
     },
     "execution_count": 10,
     "metadata": {},
     "output_type": "execute_result"
    }
   ],
   "source": [
    "X1 = {'a', 'b','c','d','e'}\n",
    "X2 = {1,2,3,4,5,6}\n",
    "\n",
    "delta = [[{'a'}, X2],[{'d'}, X2],[{'e'}, X2],[{'b','c'},{2,3}]] \n",
    "top = ntop.generate_n_ary_topology(X1,X2,delta=delta)\n",
    "top"
   ]
  },
  {
   "cell_type": "code",
   "execution_count": 13,
   "id": "53ffb48e",
   "metadata": {},
   "outputs": [
    {
     "name": "stdout",
     "output_type": "stream",
     "text": [
      "The interior is:  [{'c', 'b'}, {2, 3}]\n",
      "The closure is:  [{'c', 'b', 'a', 'e', 'd'}, {1, 2, 3, 4, 5, 6}]\n"
     ]
    }
   ],
   "source": [
    "#let (A,B) = ({b,c},{2,3,5})\n",
    "\n",
    "print(\"The interior is: \", ntop.interior(top,[{'b','c'},{2,3,5}]))\n",
    "print(\"The closure is: \", ntop.closure(X1,X2,M=top,nelement=[{'b','c'},{2,3,5}]))\n",
    "\n",
    "#interior = ntop.interior(top,[{'b','c'},{2,3,5}])\n",
    "#interior\n",
    "#closure = ntop.closure(X1,X2,M=top,nelement=[{'b','c'},{2,3,5}])\n",
    "#closure"
   ]
  },
  {
   "cell_type": "markdown",
   "id": "3b99b4b1",
   "metadata": {},
   "source": [
    "*Example 11*"
   ]
  },
  {
   "cell_type": "code",
   "execution_count": 18,
   "id": "db3ef600",
   "metadata": {},
   "outputs": [
    {
     "data": {
      "text/plain": [
       "[[{'c_1'}, {'p_1'}, {'q_1'}],\n",
       " [{'c_2'}, {'p_2'}, {'q_1'}],\n",
       " [{'c_1'}, {'p_1', 'p_2'}, {'q_2'}],\n",
       " [{'c_1', 'c_2'}, {'p_3'}, {'q_1'}],\n",
       " [{'c_1'}, {'p_2', 'p_3'}, {'q_2'}],\n",
       " [{'c_2'}, {'p_1', 'p_3'}, {'q_1'}],\n",
       " [set(), set(), {'q_1'}],\n",
       " [{'c_1'}, {'p_1'}, set()],\n",
       " [{'c_1'}, set(), {'q_1'}],\n",
       " [{'c_1'}, set(), set()],\n",
       " [set(), {'p_1'}, {'q_1'}],\n",
       " [set(), {'p_2'}, set()],\n",
       " [{'c_2'}, set(), {'q_1'}],\n",
       " [set(), set(), set()],\n",
       " [{'c_1'}, {'p_2'}, {'q_2'}],\n",
       " [set(), {'p_1'}, set()],\n",
       " [{'c_1'}, {'p_3'}, set()],\n",
       " [{'c_2'}, {'p_3'}, {'q_1'}],\n",
       " [set(), {'p_3'}, set()],\n",
       " [{'c_1', 'c_2'}, {'p_1', 'p_2'}, {'q_1'}],\n",
       " [{'c_1'}, {'p_1', 'p_2'}, {'q_1', 'q_2'}],\n",
       " [{'c_1', 'c_2'}, {'p_1', 'p_3'}, {'q_1'}],\n",
       " [{'c_1'}, {'p_1', 'p_2', 'p_3'}, {'q_1', 'q_2'}],\n",
       " [{'c_1'}, {'p_1', 'p_2'}, {'q_1'}],\n",
       " [{'c_1', 'c_2'}, {'p_1'}, {'q_1'}],\n",
       " [{'c_1'}, {'p_1', 'p_3'}, {'q_1'}],\n",
       " [{'c_1', 'c_2'}, {'p_1', 'p_2'}, {'q_1', 'q_2'}],\n",
       " [{'c_1', 'c_2'}, {'p_2', 'p_3'}, {'q_1'}],\n",
       " [{'c_1', 'c_2'}, {'p_2', 'p_3'}, {'q_1', 'q_2'}],\n",
       " [{'c_2'}, {'p_1', 'p_2', 'p_3'}, {'q_1'}],\n",
       " [{'c_1', 'c_2'}, {'p_2'}, {'q_1'}],\n",
       " [{'c_2'}, {'p_1', 'p_2'}, {'q_1'}],\n",
       " [{'c_1', 'c_2'}, {'p_2'}, {'q_1', 'q_2'}],\n",
       " [{'c_2'}, {'p_2', 'p_3'}, {'q_1'}],\n",
       " [{'c_1', 'c_2'}, {'p_1', 'p_2', 'p_3'}, {'q_1'}],\n",
       " [{'c_1', 'c_2'}, {'p_1', 'p_2', 'p_3'}, {'q_1', 'q_2'}],\n",
       " [{'c_1'}, {'p_1', 'p_2', 'p_3'}, {'q_2'}],\n",
       " [{'c_1'}, {'p_2', 'p_3'}, {'q_1', 'q_2'}],\n",
       " [set(), {'p_2'}, {'q_1'}],\n",
       " [{'c_1'}, {'p_2'}, {'q_1', 'q_2'}],\n",
       " [{'c_1'}, {'p_3'}, {'q_1'}],\n",
       " [set(), {'p_3'}, {'q_1'}],\n",
       " [{'c_1'}, {'p_1', 'p_2'}, set()],\n",
       " [{'c_1'}, {'p_1', 'p_3'}, set()],\n",
       " [{'c_1'}, {'p_2'}, {'q_1'}],\n",
       " [{'c_1', 'c_2'}, set(), {'q_1'}],\n",
       " [{'c_1'}, {'p_2'}, set()],\n",
       " [set(), {'p_1', 'p_2'}, {'q_1'}],\n",
       " [{'c_2'}, {'p_1'}, {'q_1'}],\n",
       " [set(), {'p_1', 'p_3'}, {'q_1'}],\n",
       " [set(), {'p_1', 'p_2'}, set()],\n",
       " [{'c_1'}, {'p_2', 'p_3'}, set()],\n",
       " [set(), {'p_2', 'p_3'}, set()],\n",
       " [{'c_1'}, {'p_1', 'p_2', 'p_3'}, {'q_1'}],\n",
       " [{'c_1'}, {'p_2', 'p_3'}, {'q_1'}],\n",
       " [set(), {'p_2', 'p_3'}, {'q_1'}],\n",
       " [{'c_1'}, {'p_1', 'p_2', 'p_3'}, set()],\n",
       " [set(), {'p_1', 'p_2', 'p_3'}, {'q_1'}],\n",
       " [set(), {'p_1', 'p_3'}, set()],\n",
       " [set(), {'p_1', 'p_2', 'p_3'}, set()]]"
      ]
     },
     "execution_count": 18,
     "metadata": {},
     "output_type": "execute_result"
    }
   ],
   "source": [
    "X1 = {'c_1', 'c_2'}\n",
    "X2 = {'p_1', 'p_2', 'p_3'}\n",
    "X3 = {'q_1', 'q_2'}\n",
    "\n",
    "D = [\n",
    "    [{'c_1'}, {'p_1'}, {'q_1'}],\n",
    "    [{'c_2'}, {'p_2'}, {'q_1'}],\n",
    "    [{'c_1'}, {'p_1', 'p_2'}, {'q_2'}],\n",
    "    [{'c_1', 'c_2'}, {'p_3'}, {'q_1'}],\n",
    "    [{'c_1'}, {'p_2', 'p_3'}, {'q_2'}],\n",
    "    [{'c_2'}, {'p_1', 'p_3'}, {'q_1'}],\n",
    "]\n",
    "\n",
    "top = ntop.generate_n_ary_topology(X1,X2,X3,delta=D)\n",
    "top"
   ]
  }
 ],
 "metadata": {
  "kernelspec": {
   "display_name": "Python 3 (ipykernel)",
   "language": "python",
   "name": "python3"
  },
  "language_info": {
   "codemirror_mode": {
    "name": "ipython",
    "version": 3
   },
   "file_extension": ".py",
   "mimetype": "text/x-python",
   "name": "python",
   "nbconvert_exporter": "python",
   "pygments_lexer": "ipython3",
   "version": "3.11.7"
  }
 },
 "nbformat": 4,
 "nbformat_minor": 5
}
